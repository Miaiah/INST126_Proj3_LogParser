{
 "cells": [
  {
   "cell_type": "code",
   "execution_count": 5,
   "metadata": {},
   "outputs": [],
   "source": [
    "# Function for reading log file and storing in dictionary\n",
    "def parseLog(logs):\n",
    "    logsDict = {}\n",
    "    for log in logs:\n",
    "        components = log.split()\n",
    "        date = components[0]\n",
    "        time = components[1]\n",
    "        activity = components[2]\n",
    "        server = components[3]\n",
    "        user = components[4]\n",
    "\n",
    "        if user in logsDict:\n",
    "            if date in logsDict[user]:\n",
    "                logsDict[user][date].append((time, activity, server))\n",
    "            else:\n",
    "                logsDict[user][date] = [(time, activity, server)]\n",
    "        else:\n",
    "            logsDict[user] = {date: [(time, activity, server)]}\n",
    "        logsDict[user][date].sort()\n",
    "    return logsDict"
   ]
  },
  {
   "cell_type": "code",
   "execution_count": 6,
   "metadata": {},
   "outputs": [],
   "source": [
    "# Function for writing report\n",
    "def writeReport(title, fileName, suspiciousActs, suspiciousCount, logsDict):\n",
    "    new_file = open(fileName, \"x\")\n",
    "    new_file.write(\"==============================\\n\")\n",
    "    new_file.write(f\"=== {title} ({str(suspiciousCount)} cases) ===\\n\")\n",
    "    new_file.write(\"==============================\\n\")\n",
    "\n",
    "    for user in suspiciousActs:\n",
    "        actCount = len(suspiciousActs[user])\n",
    "        new_file.write(f\"{user}\\t\\t{str(actCount)}\\n\")\n",
    "\n",
    "        for date in suspiciousActs[user]:\n",
    "            new_file.write(f\"\\tDATE: [{date}] ---\\n\")\n",
    "\n",
    "            for activity in logsDict[user][date]:\n",
    "                new_file.write(f\"\\t\\t{activity[0]}\\t{activity[1]}\\t{activity[2]}\\n\")\n",
    "\n",
    "    new_file.close()"
   ]
  },
  {
   "cell_type": "code",
   "execution_count": 7,
   "metadata": {},
   "outputs": [],
   "source": [
    "# Read userlog.log\n",
    "userlog = open(\"userlog.log\")\n",
    "logs = userlog.readlines()\n",
    "logsDict = parseLog(logs)"
   ]
  },
  {
   "cell_type": "code",
   "execution_count": 8,
   "metadata": {},
   "outputs": [],
   "source": [
    "# Problem 1 Suspicious Activities\n",
    "suspiciousActs = {}\n",
    "suspiciousCount = 0\n",
    "for user in logsDict:\n",
    "    for date in logsDict[user]:\n",
    "        loginCount = sum(1 for i in logsDict[user][date] if i[1] == 'login')\n",
    "        hasLateLogin = any(i[1] == 'login' and int(i[0].split(':')[0]) < 5 for i in logsDict[user][date])\n",
    "        \n",
    "        if loginCount > 5 or hasLateLogin:\n",
    "            suspiciousCount += 1\n",
    "            if user in suspiciousActs:\n",
    "                suspiciousActs[user].append(date)\n",
    "            else:\n",
    "                suspiciousActs[user] = [date]\n",
    "            suspiciousActs[user].sort()\n",
    "\n",
    "writeReport(\"Suspicious activities\", \"suspicious_report.txt\", suspiciousActs, suspiciousCount, logsDict)"
   ]
  },
  {
   "cell_type": "code",
   "execution_count": 10,
   "metadata": {},
   "outputs": [],
   "source": [
    "# Problem 2 Irresponsible behavior\n",
    "irresponsibleActs = {}\n",
    "irresponsibleCount = 0\n",
    "for user in logsDict:\n",
    "    for date in logsDict[user]:\n",
    "        loginCount = sum(1 for i in logsDict[user][date] if i[1] == 'login')\n",
    "        logoutCount = sum(1 for i in logsDict[user][date] if i[1] == 'logout')\n",
    "        \n",
    "        if loginCount > logoutCount:\n",
    "            irresponsibleCount += 1\n",
    "            if user in irresponsibleActs:\n",
    "                irresponsibleActs[user].append(date)\n",
    "            else:\n",
    "                irresponsibleActs[user] = [date]\n",
    "            irresponsibleActs[user].sort()\n",
    "writeReport(\"Irresponsible behavior\", \"irresponsible_report.txt\", irresponsibleActs, irresponsibleCount, logsDict)"
   ]
  },
  {
   "cell_type": "code",
   "execution_count": 11,
   "metadata": {},
   "outputs": [],
   "source": [
    "# Problem 3 System glitch\n",
    "systemGlitches = {}\n",
    "glitchCount = 0\n",
    "for user in logsDict:\n",
    "    for date in logsDict[user]:\n",
    "        loginCount = sum(1 for i in logsDict[user][date] if i[1] == 'login')\n",
    "        logoutCount = sum(1 for i in logsDict[user][date] if i[1] == 'logout')\n",
    "        \n",
    "        if loginCount < logoutCount:\n",
    "            irresponsibleCount += 1\n",
    "            if user in systemGlitches:\n",
    "                systemGlitches[user].append(date)\n",
    "            else:\n",
    "                systemGlitches[user] = [date]\n",
    "            systemGlitches[user].sort()\n",
    "writeReport(\"System glitch\", \"glitch_report.txt\", systemGlitches, glitchCount, logsDict)"
   ]
  },
  {
   "cell_type": "code",
   "execution_count": 17,
   "metadata": {},
   "outputs": [],
   "source": [
    "# Problem 4 Domain count\n",
    "emailList = logsDict.keys()\n",
    "domainsDict = {}\n",
    "for email in emailList:\n",
    "    emailParts = email.split('@')\n",
    "    domain = emailParts[1]\n",
    "    if domain in domainsDict:\n",
    "        domainsDict[domain] += 1\n",
    "    else:\n",
    "        domainsDict[domain] = 1\n",
    "\n",
    "new_file = open(\"domain_report.txt\", \"x\")\n",
    "new_file.write(\"==============================\\n\")\n",
    "new_file.write(f\"=== Domain Count ({str(len(domainsDict))} Domains) ===\\n\")\n",
    "new_file.write(\"==============================\\n\")\n",
    "\n",
    "for domain in domainsDict:\n",
    "    new_file.write(f\"{domain}\\t\\t{domainsDict[domain]}\\n\")\n",
    "\n",
    "new_file.close()"
   ]
  },
  {
   "cell_type": "code",
   "execution_count": null,
   "metadata": {},
   "outputs": [],
   "source": []
  }
 ],
 "metadata": {
  "kernelspec": {
   "display_name": "Python 3",
   "language": "python",
   "name": "python3"
  },
  "language_info": {
   "codemirror_mode": {
    "name": "ipython",
    "version": 3
   },
   "file_extension": ".py",
   "mimetype": "text/x-python",
   "name": "python",
   "nbconvert_exporter": "python",
   "pygments_lexer": "ipython3",
   "version": "3.8.5"
  }
 },
 "nbformat": 4,
 "nbformat_minor": 4
}
