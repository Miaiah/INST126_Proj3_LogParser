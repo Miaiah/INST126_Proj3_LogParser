{
 "cells": [
  {
   "cell_type": "code",
   "execution_count": null,
   "metadata": {},
   "outputs": [],
   "source": [
    "# Function for reading log file and storing in dictionary\n",
    "def parseLog(logs):\n",
    "    logsDict = {}\n",
    "    for log in logs:\n",
    "        components = log.split()\n",
    "        date = components[0]\n",
    "        time = components[1]\n",
    "        activity = components[2]\n",
    "        server = components[3]\n",
    "        user = components[4]\n",
    "\n",
    "        if user in logsDict:\n",
    "            if date in logsDict[user]:\n",
    "                logsDict[user][date].append((time, activity, server))\n",
    "            else:\n",
    "                logsDict[user][date] = [(time, activity, server)]\n",
    "        else:\n",
    "            logsDict[user] = {date: [(time, activity, server)]}\n",
    "        logsDict[user][date].sort()\n",
    "    return logsDict"
   ]
  },
  {
   "cell_type": "code",
   "execution_count": null,
   "metadata": {},
   "outputs": [],
   "source": [
    "# Read userlog.log\n",
    "userlog = open(\"userlog.log\")\n",
    "logs = userlog.readlines()\n",
    "logsDict = parseLog(logs)"
   ]
  }
 ],
 "metadata": {
  "kernelspec": {
   "display_name": "Python 3",
   "language": "python",
   "name": "python3"
  },
  "language_info": {
   "codemirror_mode": {
    "name": "ipython",
    "version": 3
   },
   "file_extension": ".py",
   "mimetype": "text/x-python",
   "name": "python",
   "nbconvert_exporter": "python",
   "pygments_lexer": "ipython3",
   "version": "3.8.5"
  }
 },
 "nbformat": 4,
 "nbformat_minor": 4
}
